{
  "cells": [
    {
      "cell_type": "code",
      "execution_count": null,
      "metadata": {
        "id": "vdefi9oF3UVX"
      },
      "outputs": [],
      "source": [
        "import tensorflow\n",
        "from tensorflow.keras.applications import InceptionV3\n",
        "from tensorflow.keras.models import Model\n",
        "from tensorflow.keras.layers import Dropout,Input,Flatten,Dense,MaxPooling2D\n",
        "from tensorflow.keras.preprocessing.image import ImageDataGenerator"
      ]
    },
    {
      "cell_type": "code",
      "execution_count": null,
      "metadata": {
        "id": "A9ZlgUiA3Zcb"
      },
      "outputs": [],
      "source": [
        "from keras.preprocessing.image import ImageDataGenerator\n",
        "from keras.models import Sequential\n",
        "from keras.layers import Dense, GlobalAveragePooling2D\n",
        "from keras.applications import ResNet50"
      ]
    },
    {
      "cell_type": "code",
      "execution_count": null,
      "metadata": {
        "id": "Inta7Oj13eLp"
      },
      "outputs": [],
      "source": [
        "import numpy as np\n",
        "import pandas as pd\n",
        "import os\n",
        "import cv2"
      ]
    },
    {
      "cell_type": "code",
      "source": [
        "data= os.listdir('/content/drive/MyDrive/train')"
      ],
      "metadata": {
        "id": "afXyGGuBR6yW"
      },
      "execution_count": null,
      "outputs": []
    },
    {
      "cell_type": "code",
      "source": [
        "data"
      ],
      "metadata": {
        "colab": {
          "base_uri": "https://localhost:8080/"
        },
        "id": "lDt6HsZgSE_H",
        "outputId": "e1529b40-8475-4772-b632-3f7a02d281c5"
      },
      "execution_count": null,
      "outputs": [
        {
          "output_type": "execute_result",
          "data": {
            "text/plain": [
              "['yawn', 'no_yawn', 'Open', 'Closed']"
            ]
          },
          "metadata": {},
          "execution_count": 5
        }
      ]
    },
    {
      "cell_type": "code",
      "source": [
        "def load_data(dataset_dir):\n",
        "    images = []\n",
        "    labels = []\n",
        "    classes = os.listdir(dataset_dir)\n",
        "    for i, cls in enumerate(classes):\n",
        "        cls_dir = os.path.join(dataset_dir, cls)\n",
        "        for image_name in os.listdir(cls_dir):\n",
        "            image_path = os.path.join(cls_dir, image_name)\n",
        "            image = cv2.imread(image_path)\n",
        "            image = cv2.resize(image, (224, 224))\n",
        "            images.append(image)\n",
        "            labels.append(i)\n",
        "    return np.array(images), np.array(labels)"
      ],
      "metadata": {
        "id": "DtifvUfra5li"
      },
      "execution_count": null,
      "outputs": []
    },
    {
      "cell_type": "code",
      "source": [
        "dataset_dir = \"/content/drive/MyDrive/train\"\n",
        "images, labels = load_data(dataset_dir)"
      ],
      "metadata": {
        "id": "aeO7qpwKauQO"
      },
      "execution_count": null,
      "outputs": []
    },
    {
      "cell_type": "code",
      "execution_count": null,
      "metadata": {
        "id": "CdiRSwxW3o8e"
      },
      "outputs": [],
      "source": [
        "from sklearn.model_selection import train_test_split\n",
        "train_images, test_images, train_labels, test_labels = train_test_split(images, labels, test_size=0.2, random_state=42)\n",
        "\n",
        "\n",
        "train_images = train_images / 255.0\n",
        "test_images = test_images / 255.0"
      ]
    },
    {
      "cell_type": "code",
      "execution_count": null,
      "metadata": {
        "id": "3dFSJcoS3rKI",
        "colab": {
          "base_uri": "https://localhost:8080/"
        },
        "outputId": "4c206f3f-65cc-424a-ca1a-fb8a5ee8b6eb"
      },
      "outputs": [
        {
          "output_type": "stream",
          "name": "stdout",
          "text": [
            "Epoch 1/10\n",
            "73/73 [==============================] - 5s 15ms/step - loss: 1.0534 - accuracy: 0.4849 - val_loss: 0.8600 - val_accuracy: 0.6103\n",
            "Epoch 2/10\n",
            "73/73 [==============================] - 0s 7ms/step - loss: 0.8915 - accuracy: 0.5534 - val_loss: 0.7482 - val_accuracy: 0.7052\n",
            "Epoch 3/10\n",
            "73/73 [==============================] - 0s 7ms/step - loss: 0.8282 - accuracy: 0.5823 - val_loss: 0.7127 - val_accuracy: 0.7466\n",
            "Epoch 4/10\n",
            "73/73 [==============================] - 0s 6ms/step - loss: 0.7845 - accuracy: 0.5935 - val_loss: 0.6415 - val_accuracy: 0.7638\n",
            "Epoch 5/10\n",
            "73/73 [==============================] - 0s 7ms/step - loss: 0.7369 - accuracy: 0.6272 - val_loss: 0.6458 - val_accuracy: 0.6931\n",
            "Epoch 6/10\n",
            "73/73 [==============================] - 0s 7ms/step - loss: 0.7073 - accuracy: 0.6569 - val_loss: 0.5857 - val_accuracy: 0.7828\n",
            "Epoch 7/10\n",
            "73/73 [==============================] - 1s 9ms/step - loss: 0.6812 - accuracy: 0.6500 - val_loss: 0.5919 - val_accuracy: 0.7741\n",
            "Epoch 8/10\n",
            "73/73 [==============================] - 1s 9ms/step - loss: 0.6675 - accuracy: 0.6759 - val_loss: 0.5737 - val_accuracy: 0.7897\n",
            "Epoch 9/10\n",
            "73/73 [==============================] - 1s 10ms/step - loss: 0.6500 - accuracy: 0.6875 - val_loss: 0.5314 - val_accuracy: 0.7741\n",
            "Epoch 10/10\n",
            "73/73 [==============================] - 1s 9ms/step - loss: 0.6104 - accuracy: 0.7190 - val_loss: 0.5302 - val_accuracy: 0.7845\n",
            "19/19 [==============================] - 0s 5ms/step - loss: 0.5302 - accuracy: 0.7845\n",
            "Test Loss: 0.5301689505577087\n",
            "Test accuracy: 0.7844827771186829\n"
          ]
        }
      ],
      "source": [
        "import tensorflow as tf\n",
        "from tensorflow.keras.models import Sequential\n",
        "from tensorflow.keras.layers import LSTM, Dropout, Dense\n",
        "def load_data(dataset_dir):\n",
        "    images = []\n",
        "    labels = []\n",
        "    classes = os.listdir(dataset_dir)\n",
        "    for i, cls in enumerate(classes):\n",
        "        cls_dir = os.path.join(dataset_dir, cls)\n",
        "        for image_name in os.listdir(cls_dir):\n",
        "            image_path = os.path.join(cls_dir, image_name)\n",
        "            image = cv2.imread(image_path)\n",
        "            image = cv2.resize(image, (64, 64))\n",
        "            images.append(image)\n",
        "            labels.append(i)\n",
        "    return np.array(images), np.array(labels)\n",
        "\n",
        "\n",
        "dataset_dir = \"/content/drive/MyDrive/train\"\n",
        "images, labels = load_data(dataset_dir)\n",
        "\n",
        "\n",
        "train_images, test_images, train_labels, test_labels = train_test_split(images, labels, test_size=0.2, random_state=42)\n",
        "\n",
        "\n",
        "train_images = train_images / 255.0\n",
        "test_images = test_images / 255.0\n",
        "model = Sequential([\n",
        "    LSTM(64, input_shape=(None, 64*64*3)),\n",
        "    Dropout(0.5),\n",
        "    Dense(4, activation='softmax')\n",
        "])\n",
        "\n",
        "\n",
        "model.compile(optimizer='adam', loss='sparse_categorical_crossentropy', metrics=['accuracy'])\n",
        "\n",
        "\n",
        "train_images = train_images.reshape((-1, 1, 64*64*3))\n",
        "test_images = test_images.reshape((-1, 1, 64*64*3))\n",
        "\n",
        "\n",
        "model.fit(train_images, train_labels, epochs=10, batch_size=32, validation_data=(test_images, test_labels))\n",
        "\n",
        "test_loss, test_acc = model.evaluate(test_images, test_labels)\n",
        "print(\"Test Loss:\", test_loss)\n",
        "print(\"Test accuracy:\", test_acc)"
      ]
    },
    {
      "cell_type": "code",
      "execution_count": null,
      "metadata": {
        "id": "HVKJEJT13uai",
        "colab": {
          "base_uri": "https://localhost:8080/"
        },
        "outputId": "b23546a5-4de9-4156-ecdc-47aef8777a64"
      },
      "outputs": [
        {
          "output_type": "stream",
          "name": "stdout",
          "text": [
            "Epoch 1/10\n",
            "73/73 [==============================] - 3s 11ms/step - loss: 0.6239 - accuracy: 0.7207 - val_loss: 0.4650 - val_accuracy: 0.7879\n",
            "Epoch 2/10\n",
            "73/73 [==============================] - 0s 6ms/step - loss: 0.3129 - accuracy: 0.8625 - val_loss: 0.2714 - val_accuracy: 0.9000\n",
            "Epoch 3/10\n",
            "73/73 [==============================] - 0s 6ms/step - loss: 0.2081 - accuracy: 0.9216 - val_loss: 0.2184 - val_accuracy: 0.9138\n",
            "Epoch 4/10\n",
            "73/73 [==============================] - 0s 6ms/step - loss: 0.1622 - accuracy: 0.9388 - val_loss: 0.1972 - val_accuracy: 0.9276\n",
            "Epoch 5/10\n",
            "73/73 [==============================] - 0s 6ms/step - loss: 0.1162 - accuracy: 0.9625 - val_loss: 0.2483 - val_accuracy: 0.9155\n",
            "Epoch 6/10\n",
            "73/73 [==============================] - 0s 6ms/step - loss: 0.0947 - accuracy: 0.9698 - val_loss: 0.1332 - val_accuracy: 0.9483\n",
            "Epoch 7/10\n",
            "73/73 [==============================] - 0s 6ms/step - loss: 0.0627 - accuracy: 0.9836 - val_loss: 0.1571 - val_accuracy: 0.9362\n",
            "Epoch 8/10\n",
            "73/73 [==============================] - 0s 6ms/step - loss: 0.0582 - accuracy: 0.9815 - val_loss: 0.1261 - val_accuracy: 0.9483\n",
            "Epoch 9/10\n",
            "73/73 [==============================] - 0s 6ms/step - loss: 0.0414 - accuracy: 0.9905 - val_loss: 0.1268 - val_accuracy: 0.9534\n",
            "Epoch 10/10\n",
            "73/73 [==============================] - 1s 8ms/step - loss: 0.0228 - accuracy: 0.9957 - val_loss: 0.1278 - val_accuracy: 0.9638\n",
            "19/19 [==============================] - 0s 5ms/step - loss: 0.1278 - accuracy: 0.9638\n",
            "Test Loss: 0.12780140340328217\n",
            "Test Accuracy: 0.9637930989265442\n"
          ]
        }
      ],
      "source": [
        "from tensorflow.keras.models import Sequential\n",
        "from tensorflow.keras.layers import Conv2D, MaxPooling2D, Flatten, Dense\n",
        "train_images = train_images.reshape((-1, 64, 64, 3))\n",
        "test_images = test_images.reshape((-1, 64, 64, 3))\n",
        "\n",
        "model_cnn = Sequential([\n",
        "    Conv2D(32, (3, 3), activation='relu', input_shape=(64, 64, 3)),\n",
        "    MaxPooling2D((2, 2)),\n",
        "    Flatten(),\n",
        "    Dense(64, activation='relu'),\n",
        "    Dense(4, activation='softmax')\n",
        "])\n",
        "\n",
        "model_cnn.compile(optimizer='adam', loss='sparse_categorical_crossentropy', metrics=['accuracy'])\n",
        "model_cnn.fit(train_images, train_labels, epochs=10, batch_size=32, validation_data=(test_images, test_labels))\n",
        "\n",
        "test_loss, test_accuracy = model_cnn.evaluate(test_images, test_labels)\n",
        "print(\"Test Loss:\", test_loss)\n",
        "print(\"Test Accuracy:\", test_accuracy)\n"
      ]
    },
    {
      "cell_type": "code",
      "execution_count": null,
      "metadata": {
        "id": "EV_MK84C3z_x",
        "colab": {
          "base_uri": "https://localhost:8080/"
        },
        "outputId": "77a7a0ef-f059-4aa3-aa87-e989572b6d19"
      },
      "outputs": [
        {
          "output_type": "stream",
          "name": "stdout",
          "text": [
            "Epoch 1/10\n",
            "73/73 [==============================] - 29s 289ms/step - loss: 1.0843 - accuracy: 0.7362 - val_loss: 0.2695 - val_accuracy: 0.8707\n",
            "Epoch 2/10\n",
            "73/73 [==============================] - 17s 233ms/step - loss: 0.2218 - accuracy: 0.9060 - val_loss: 0.1765 - val_accuracy: 0.9172\n",
            "Epoch 3/10\n",
            "73/73 [==============================] - 15s 209ms/step - loss: 0.1466 - accuracy: 0.9409 - val_loss: 0.1288 - val_accuracy: 0.9500\n",
            "Epoch 4/10\n",
            "73/73 [==============================] - 16s 214ms/step - loss: 0.0805 - accuracy: 0.9797 - val_loss: 0.0879 - val_accuracy: 0.9793\n",
            "Epoch 5/10\n",
            "73/73 [==============================] - 17s 237ms/step - loss: 0.0611 - accuracy: 0.9862 - val_loss: 0.0861 - val_accuracy: 0.9810\n",
            "Epoch 6/10\n",
            "73/73 [==============================] - 15s 204ms/step - loss: 0.0528 - accuracy: 0.9845 - val_loss: 0.0670 - val_accuracy: 0.9879\n",
            "Epoch 7/10\n",
            "73/73 [==============================] - 15s 205ms/step - loss: 0.0411 - accuracy: 0.9879 - val_loss: 0.0842 - val_accuracy: 0.9672\n",
            "Epoch 8/10\n",
            "73/73 [==============================] - 15s 207ms/step - loss: 0.0427 - accuracy: 0.9862 - val_loss: 0.0665 - val_accuracy: 0.9741\n",
            "Epoch 9/10\n",
            "73/73 [==============================] - 15s 209ms/step - loss: 0.0693 - accuracy: 0.9716 - val_loss: 0.1960 - val_accuracy: 0.9241\n",
            "Epoch 10/10\n",
            "73/73 [==============================] - 15s 208ms/step - loss: 0.0572 - accuracy: 0.9802 - val_loss: 0.0938 - val_accuracy: 0.9621\n",
            "19/19 [==============================] - 3s 158ms/step - loss: 0.0938 - accuracy: 0.9621\n",
            "Test Loss (VGG19): 0.09376133233308792\n",
            "Test Accuracy (VGG19): 0.9620689749717712\n"
          ]
        }
      ],
      "source": [
        "from tensorflow.keras.applications import VGG19\n",
        "from tensorflow.keras.models import Sequential\n",
        "from tensorflow.keras.layers import Dense, Flatten\n",
        "from tensorflow.keras.optimizers import Adam\n",
        "import tensorflow as tf\n",
        "\n",
        "train_images_vgg = tf.image.resize(train_images, (224, 224))\n",
        "test_images_vgg = tf.image.resize(test_images, (224, 224))\n",
        "vgg_base = VGG19(weights='imagenet', include_top=False, input_shape=(224, 224, 3))\n",
        "for layer in vgg_base.layers:\n",
        "    layer.trainable = False\n",
        "model_vgg = Sequential([\n",
        "    vgg_base,\n",
        "    Flatten(),\n",
        "    Dense(256, activation='relu'),\n",
        "    Dense(4, activation='softmax')\n",
        "])\n",
        "model_vgg.compile(optimizer=Adam(), loss='sparse_categorical_crossentropy', metrics=['accuracy'])\n",
        "model_vgg.fit(train_images_vgg, train_labels, epochs=10, batch_size=32, validation_data=(test_images_vgg, test_labels))\n",
        "test_loss_vgg, test_accuracy_vgg = model_vgg.evaluate(test_images_vgg, test_labels)\n",
        "print(\"Test Loss (VGG19):\", test_loss_vgg)\n",
        "print(\"Test Accuracy (VGG19):\", test_accuracy_vgg)\n"
      ]
    },
    {
      "cell_type": "code",
      "source": [
        "from tensorflow.keras.applications import InceptionV3\n",
        "from tensorflow.keras.models import Sequential\n",
        "from tensorflow.keras.layers import Dense, Flatten\n",
        "from tensorflow.keras.optimizers import Adam\n",
        "import tensorflow as tf\n",
        "\n",
        "train_images_inception_v3 = tf.image.resize(train_images, (299, 299))\n",
        "test_images_inception_v3 = tf.image.resize(test_images, (299, 299))\n",
        "inception_v3_base = InceptionV3(weights='imagenet', include_top=False, input_shape=(299, 299, 3))\n",
        "for layer in inception_v3_base.layers:\n",
        "    layer.trainable = False\n",
        "model_inception_v3 = Sequential([\n",
        "    inception_v3_base,\n",
        "    Flatten(),\n",
        "    Dense(256, activation='relu'),\n",
        "    Dense(4, activation='softmax')\n",
        "])\n",
        "model_inception_v3.compile(optimizer=Adam(), loss='sparse_categorical_crossentropy', metrics=['accuracy'])\n",
        "model_inception_v3.fit(train_images_inception_v3, train_labels, epochs=10, batch_size=32, validation_data=(test_images_inception_v3, test_labels))\n",
        "test_loss_inception_v3, test_accuracy_inception_v3 = model_inception_v3.evaluate(test_images_inception_v3, test_labels)\n",
        "print(\"Test Loss (InceptionV3):\", test_loss_inception_v3)\n",
        "print(\"Test Accuracy (InceptionV3):\", test_accuracy_inception_v3)\n"
      ],
      "metadata": {
        "colab": {
          "base_uri": "https://localhost:8080/"
        },
        "id": "uCzUGR_kpY1A",
        "outputId": "1e076eab-ba0f-4a70-dcd3-cbe1ed43abc6"
      },
      "execution_count": null,
      "outputs": [
        {
          "output_type": "stream",
          "name": "stdout",
          "text": [
            "Epoch 1/10\n",
            "73/73 [==============================] - 30s 280ms/step - loss: 6.6176 - accuracy: 0.7918 - val_loss: 0.9553 - val_accuracy: 0.9086\n",
            "Epoch 2/10\n",
            "73/73 [==============================] - 13s 177ms/step - loss: 0.3416 - accuracy: 0.9414 - val_loss: 0.2731 - val_accuracy: 0.9397\n",
            "Epoch 3/10\n",
            "73/73 [==============================] - 13s 177ms/step - loss: 0.1557 - accuracy: 0.9677 - val_loss: 0.6711 - val_accuracy: 0.9310\n",
            "Epoch 4/10\n",
            "73/73 [==============================] - 12s 171ms/step - loss: 0.2144 - accuracy: 0.9659 - val_loss: 0.5111 - val_accuracy: 0.9362\n",
            "Epoch 5/10\n",
            "73/73 [==============================] - 13s 176ms/step - loss: 0.3312 - accuracy: 0.9612 - val_loss: 0.5581 - val_accuracy: 0.9345\n",
            "Epoch 6/10\n",
            "73/73 [==============================] - 13s 173ms/step - loss: 0.0741 - accuracy: 0.9892 - val_loss: 0.0735 - val_accuracy: 0.9759\n",
            "Epoch 7/10\n",
            "73/73 [==============================] - 13s 178ms/step - loss: 0.0221 - accuracy: 0.9957 - val_loss: 0.1012 - val_accuracy: 0.9724\n",
            "Epoch 8/10\n",
            "73/73 [==============================] - 13s 178ms/step - loss: 0.0052 - accuracy: 0.9983 - val_loss: 0.0867 - val_accuracy: 0.9776\n",
            "Epoch 9/10\n",
            "73/73 [==============================] - 13s 175ms/step - loss: 0.0178 - accuracy: 0.9935 - val_loss: 0.1939 - val_accuracy: 0.9672\n",
            "Epoch 10/10\n",
            "73/73 [==============================] - 15s 201ms/step - loss: 0.0423 - accuracy: 0.9914 - val_loss: 0.1939 - val_accuracy: 0.9621\n",
            "19/19 [==============================] - 3s 138ms/step - loss: 0.1939 - accuracy: 0.9621\n",
            "Test Loss (InceptionV3): 0.19393281638622284\n",
            "Test Accuracy (InceptionV3): 0.9620689749717712\n"
          ]
        }
      ]
    },
    {
      "cell_type": "code",
      "source": [
        "from tensorflow.keras.applications import DenseNet121\n",
        "from tensorflow.keras.models import Sequential\n",
        "from tensorflow.keras.layers import Dense, Flatten\n",
        "from tensorflow.keras.optimizers import Adam\n",
        "import tensorflow as tf\n",
        "\n",
        "train_images_densenet = tf.image.resize(train_images, (224, 224))\n",
        "test_images_densenet = tf.image.resize(test_images, (224, 224))\n",
        "densenet_base = DenseNet121(weights='imagenet', include_top=False, input_shape=(224, 224, 3))\n",
        "for layer in densenet_base.layers:\n",
        "    layer.trainable = False\n",
        "model_densenet = Sequential([\n",
        "    densenet_base,\n",
        "    Flatten(),\n",
        "    Dense(256, activation='relu'),\n",
        "    Dense(4, activation='softmax')\n",
        "])\n",
        "model_densenet.compile(optimizer=Adam(), loss='sparse_categorical_crossentropy', metrics=['accuracy'])\n",
        "model_densenet.fit(train_images_densenet, train_labels, epochs=10, batch_size=32, validation_data=(test_images_densenet, test_labels))\n",
        "test_loss_densenet, test_accuracy_densenet = model_densenet.evaluate(test_images_densenet, test_labels)\n",
        "print(\"Test Loss (DenseNet):\", test_loss_densenet)\n",
        "print(\"Test Accuracy (DenseNet):\", test_accuracy_densenet)\n"
      ],
      "metadata": {
        "colab": {
          "base_uri": "https://localhost:8080/"
        },
        "id": "PTebl3V5p1Mp",
        "outputId": "3eef3959-da1e-46d7-baa5-7f47e6244970"
      },
      "execution_count": null,
      "outputs": [
        {
          "output_type": "stream",
          "name": "stdout",
          "text": [
            "Epoch 1/10\n",
            "73/73 [==============================] - 29s 246ms/step - loss: 4.2330 - accuracy: 0.8009 - val_loss: 0.5455 - val_accuracy: 0.9345\n",
            "Epoch 2/10\n",
            "73/73 [==============================] - 9s 127ms/step - loss: 0.5162 - accuracy: 0.9401 - val_loss: 0.3320 - val_accuracy: 0.9517\n",
            "Epoch 3/10\n",
            "73/73 [==============================] - 10s 139ms/step - loss: 0.6387 - accuracy: 0.9379 - val_loss: 0.5687 - val_accuracy: 0.9293\n",
            "Epoch 4/10\n",
            "73/73 [==============================] - 10s 136ms/step - loss: 0.6927 - accuracy: 0.9341 - val_loss: 0.2144 - val_accuracy: 0.9707\n",
            "Epoch 5/10\n",
            "73/73 [==============================] - 10s 134ms/step - loss: 0.1463 - accuracy: 0.9815 - val_loss: 0.2581 - val_accuracy: 0.9672\n",
            "Epoch 6/10\n",
            "73/73 [==============================] - 10s 136ms/step - loss: 0.0432 - accuracy: 0.9922 - val_loss: 0.1823 - val_accuracy: 0.9638\n",
            "Epoch 7/10\n",
            "73/73 [==============================] - 9s 125ms/step - loss: 0.0246 - accuracy: 0.9944 - val_loss: 0.1546 - val_accuracy: 0.9707\n",
            "Epoch 8/10\n",
            "73/73 [==============================] - 9s 121ms/step - loss: 0.0324 - accuracy: 0.9940 - val_loss: 0.3352 - val_accuracy: 0.9500\n",
            "Epoch 9/10\n",
            "73/73 [==============================] - 10s 137ms/step - loss: 0.0051 - accuracy: 0.9978 - val_loss: 0.3136 - val_accuracy: 0.9500\n",
            "Epoch 10/10\n",
            "73/73 [==============================] - 10s 136ms/step - loss: 0.0484 - accuracy: 0.9901 - val_loss: 0.3059 - val_accuracy: 0.9569\n",
            "19/19 [==============================] - 2s 99ms/step - loss: 0.3059 - accuracy: 0.9569\n",
            "Test Loss (DenseNet): 0.30591699481010437\n",
            "Test Accuracy (DenseNet): 0.9568965435028076\n"
          ]
        }
      ]
    },
    {
      "cell_type": "code",
      "source": [
        "from tabulate import tabulate\n",
        "accuracies = {\n",
        "    \"LSTM\": test_acc * 100,\n",
        "    \"CNN\": test_accuracy * 100,\n",
        "    \"VGG19\": test_accuracy_vgg * 100,\n",
        "    \"InceptionV3\": test_accuracy_inception_v3 * 100,\n",
        "    \"DenseNet\": test_accuracy_densenet * 100\n",
        "}\n",
        "\n",
        "table_data = [[model, f\"{accuracy:.2f}%\" ] for model, accuracy in accuracies.items()]\n",
        "\n",
        "print(tabulate(table_data, headers=[\"Model\", \"Test Accuracy\"]))\n",
        "\n"
      ],
      "metadata": {
        "colab": {
          "base_uri": "https://localhost:8080/"
        },
        "id": "DZzxf1dn2DoS",
        "outputId": "cdb2072f-f3e4-413f-fd94-d83e15e81bda"
      },
      "execution_count": null,
      "outputs": [
        {
          "output_type": "stream",
          "name": "stdout",
          "text": [
            "Model        Test Accuracy\n",
            "-----------  ---------------\n",
            "LSTM         78.45%\n",
            "CNN          96.38%\n",
            "VGG19        96.21%\n",
            "InceptionV3  96.21%\n",
            "DenseNet     95.69%\n"
          ]
        }
      ]
    },
    {
      "cell_type": "code",
      "source": [
        "import matplotlib.pyplot as plt\n",
        "\n",
        "accuracies = {\n",
        "    \"LSTM\": test_acc * 100,\n",
        "    \"CNN\": test_accuracy * 100,\n",
        "    \"VGG19\": test_accuracy_vgg * 100,\n",
        "    \"InceptionV3\": test_accuracy_inception_v3 * 100,\n",
        "    \"DenseNet\": test_accuracy_densenet * 100\n",
        "}\n",
        "\n",
        "plt.figure(figsize=(10, 6))\n",
        "bars = plt.bar(accuracies.keys(), accuracies.values(), color='skyblue')\n",
        "plt.xlabel('Model')\n",
        "plt.ylabel('Test Accuracy (%)')\n",
        "plt.title('Test Accuracies of Different Models')\n",
        "plt.xticks(rotation=45)\n",
        "\n",
        "for bar, accuracy in zip(bars, accuracies.values()):\n",
        "    plt.text(bar.get_x() + bar.get_width() / 2, bar.get_height() + 0.5, f'{accuracy:.2f}%', ha='center', va='bottom')\n",
        "\n",
        "plt.show()\n"
      ],
      "metadata": {
        "id": "jW00GzcBwzhc",
        "colab": {
          "base_uri": "https://localhost:8080/",
          "height": 618
        },
        "outputId": "d6423100-b9bf-490f-c047-76481615c4d5"
      },
      "execution_count": null,
      "outputs": [
        {
          "output_type": "display_data",
          "data": {
            "text/plain": [
              "<Figure size 1000x600 with 1 Axes>"
            ],
            "image/png": "[encoded data removed]"
          },
          "metadata": {}
        }
      ]
    },
    {
      "cell_type": "code",
      "source": [],
      "metadata": {
        "id": "1PmfPlAv2jsk"
      },
      "execution_count": null,
      "outputs": []
    }
  ],
  "metadata": {
    "accelerator": "GPU",
    "colab": {
      "gpuType": "T4",
      "provenance": []
    },
    "kernelspec": {
      "display_name": "Python 3",
      "name": "python3"
    },
    "language_info": {
      "name": "python"
    }
  },
  "nbformat": 4,
  "nbformat_minor": 0
}